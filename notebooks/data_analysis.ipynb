{
 "cells": [
  {
   "metadata": {
    "ExecuteTime": {
     "end_time": "2025-04-03T02:19:36.089820Z",
     "start_time": "2025-04-03T02:18:06.128146Z"
    }
   },
   "cell_type": "code",
   "source": "import pandas as pd",
   "id": "52812d28c0c37644",
   "outputs": [],
   "execution_count": 2
  },
  {
   "metadata": {
    "collapsed": true,
    "ExecuteTime": {
     "end_time": "2025-04-03T02:37:15.380562Z",
     "start_time": "2025-04-03T02:37:15.282900Z"
    }
   },
   "cell_type": "code",
   "source": [
    "path = '/Users/tiagoribeiro/Downloads/'\n",
    "file = 'ProcessaMesa.csv'\n",
    "\n",
    "df = pd.read_csv(path + file, delimiter='\t')\n",
    "\n",
    "df[0:1]"
   ],
   "id": "initial_id",
   "outputs": [
    {
     "data": {
      "text/plain": [
       "   id control cultivar   1970   1971  1972  1973    1974    1975   1976  ...  \\\n",
       "0   1  TINTAS   TINTAS  56976  43390  4428  8939  125563  183731  88512  ...   \n",
       "\n",
       "    2014    2015   2016   2017   2018  2019   2020   2021  2022    2023  \n",
       "0  65850  108797  51310  85510  62567    nd  63474  21732     *  175030  \n",
       "\n",
       "[1 rows x 57 columns]"
      ],
      "text/html": [
       "<div>\n",
       "<style scoped>\n",
       "    .dataframe tbody tr th:only-of-type {\n",
       "        vertical-align: middle;\n",
       "    }\n",
       "\n",
       "    .dataframe tbody tr th {\n",
       "        vertical-align: top;\n",
       "    }\n",
       "\n",
       "    .dataframe thead th {\n",
       "        text-align: right;\n",
       "    }\n",
       "</style>\n",
       "<table border=\"1\" class=\"dataframe\">\n",
       "  <thead>\n",
       "    <tr style=\"text-align: right;\">\n",
       "      <th></th>\n",
       "      <th>id</th>\n",
       "      <th>control</th>\n",
       "      <th>cultivar</th>\n",
       "      <th>1970</th>\n",
       "      <th>1971</th>\n",
       "      <th>1972</th>\n",
       "      <th>1973</th>\n",
       "      <th>1974</th>\n",
       "      <th>1975</th>\n",
       "      <th>1976</th>\n",
       "      <th>...</th>\n",
       "      <th>2014</th>\n",
       "      <th>2015</th>\n",
       "      <th>2016</th>\n",
       "      <th>2017</th>\n",
       "      <th>2018</th>\n",
       "      <th>2019</th>\n",
       "      <th>2020</th>\n",
       "      <th>2021</th>\n",
       "      <th>2022</th>\n",
       "      <th>2023</th>\n",
       "    </tr>\n",
       "  </thead>\n",
       "  <tbody>\n",
       "    <tr>\n",
       "      <th>0</th>\n",
       "      <td>1</td>\n",
       "      <td>TINTAS</td>\n",
       "      <td>TINTAS</td>\n",
       "      <td>56976</td>\n",
       "      <td>43390</td>\n",
       "      <td>4428</td>\n",
       "      <td>8939</td>\n",
       "      <td>125563</td>\n",
       "      <td>183731</td>\n",
       "      <td>88512</td>\n",
       "      <td>...</td>\n",
       "      <td>65850</td>\n",
       "      <td>108797</td>\n",
       "      <td>51310</td>\n",
       "      <td>85510</td>\n",
       "      <td>62567</td>\n",
       "      <td>nd</td>\n",
       "      <td>63474</td>\n",
       "      <td>21732</td>\n",
       "      <td>*</td>\n",
       "      <td>175030</td>\n",
       "    </tr>\n",
       "  </tbody>\n",
       "</table>\n",
       "<p>1 rows × 57 columns</p>\n",
       "</div>"
      ]
     },
     "execution_count": 25,
     "metadata": {},
     "output_type": "execute_result"
    }
   ],
   "execution_count": 25
  },
  {
   "metadata": {
    "ExecuteTime": {
     "end_time": "2025-04-03T02:21:18.767358Z",
     "start_time": "2025-04-03T02:21:17.485014Z"
    }
   },
   "cell_type": "code",
   "source": ":pd.read_csv?",
   "id": "ee2414ed6cf7b483",
   "outputs": [],
   "execution_count": 4
  },
  {
   "metadata": {},
   "cell_type": "code",
   "outputs": [],
   "execution_count": null,
   "source": "",
   "id": "c9981c01dab59988"
  }
 ],
 "metadata": {
  "kernelspec": {
   "display_name": "Python 3",
   "language": "python",
   "name": "python3"
  },
  "language_info": {
   "codemirror_mode": {
    "name": "ipython",
    "version": 2
   },
   "file_extension": ".py",
   "mimetype": "text/x-python",
   "name": "python",
   "nbconvert_exporter": "python",
   "pygments_lexer": "ipython2",
   "version": "2.7.6"
  }
 },
 "nbformat": 4,
 "nbformat_minor": 5
}
